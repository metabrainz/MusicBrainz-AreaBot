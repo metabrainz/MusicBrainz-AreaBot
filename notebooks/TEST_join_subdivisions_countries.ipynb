{
 "cells": [
  {
   "cell_type": "code",
   "execution_count": 2,
   "metadata": {},
   "outputs": [],
   "source": [
    "import os\n",
    "import sys\n",
    "module_path = os.path.abspath(os.path.join('..'))\n",
    "if module_path not in sys.path:\n",
    "    sys.path.append(module_path)"
   ]
  },
  {
   "cell_type": "code",
   "execution_count": 3,
   "metadata": {},
   "outputs": [],
   "source": [
    "import pandas as pd\n",
    "import lib.fetch_SPARQL as fs\n",
    "import lib.query_helper as qh"
   ]
  },
  {
   "cell_type": "code",
   "execution_count": 4,
   "metadata": {},
   "outputs": [
    {
     "data": {
      "text/html": [
       "<div>\n",
       "<style scoped>\n",
       "    .dataframe tbody tr th:only-of-type {\n",
       "        vertical-align: middle;\n",
       "    }\n",
       "\n",
       "    .dataframe tbody tr th {\n",
       "        vertical-align: top;\n",
       "    }\n",
       "\n",
       "    .dataframe thead th {\n",
       "        text-align: right;\n",
       "    }\n",
       "</style>\n",
       "<table border=\"1\" class=\"dataframe\">\n",
       "  <thead>\n",
       "    <tr style=\"text-align: right;\">\n",
       "      <th></th>\n",
       "      <th>country</th>\n",
       "      <th>iso_3166_1_code</th>\n",
       "      <th>geonamesID</th>\n",
       "      <th>countryLabel</th>\n",
       "    </tr>\n",
       "  </thead>\n",
       "  <tbody>\n",
       "    <tr>\n",
       "      <th>0</th>\n",
       "      <td>http://www.wikidata.org/entity/Q16</td>\n",
       "      <td>CA</td>\n",
       "      <td>6251999.0</td>\n",
       "      <td>Canada</td>\n",
       "    </tr>\n",
       "    <tr>\n",
       "      <th>1</th>\n",
       "      <td>http://www.wikidata.org/entity/Q17</td>\n",
       "      <td>JP</td>\n",
       "      <td>1861060.0</td>\n",
       "      <td>Japan</td>\n",
       "    </tr>\n",
       "    <tr>\n",
       "      <th>2</th>\n",
       "      <td>http://www.wikidata.org/entity/Q20</td>\n",
       "      <td>NO</td>\n",
       "      <td>3144096.0</td>\n",
       "      <td>Norway</td>\n",
       "    </tr>\n",
       "    <tr>\n",
       "      <th>3</th>\n",
       "      <td>http://www.wikidata.org/entity/Q27</td>\n",
       "      <td>IE</td>\n",
       "      <td>2963597.0</td>\n",
       "      <td>Republic of Ireland</td>\n",
       "    </tr>\n",
       "    <tr>\n",
       "      <th>4</th>\n",
       "      <td>http://www.wikidata.org/entity/Q28</td>\n",
       "      <td>HU</td>\n",
       "      <td>719819.0</td>\n",
       "      <td>Hungary</td>\n",
       "    </tr>\n",
       "  </tbody>\n",
       "</table>\n",
       "</div>"
      ],
      "text/plain": [
       "                              country iso_3166_1_code  geonamesID  \\\n",
       "0  http://www.wikidata.org/entity/Q16              CA   6251999.0   \n",
       "1  http://www.wikidata.org/entity/Q17              JP   1861060.0   \n",
       "2  http://www.wikidata.org/entity/Q20              NO   3144096.0   \n",
       "3  http://www.wikidata.org/entity/Q27              IE   2963597.0   \n",
       "4  http://www.wikidata.org/entity/Q28              HU    719819.0   \n",
       "\n",
       "          countryLabel  \n",
       "0               Canada  \n",
       "1                Japan  \n",
       "2               Norway  \n",
       "3  Republic of Ireland  \n",
       "4              Hungary  "
      ]
     },
     "execution_count": 4,
     "metadata": {},
     "output_type": "execute_result"
    }
   ],
   "source": [
    "# Run main.py before running this cell.\n",
    "countries = pd.read_csv('../data/current_countries.csv')\n",
    "countries.head()"
   ]
  },
  {
   "cell_type": "code",
   "execution_count": 5,
   "metadata": {},
   "outputs": [
    {
     "data": {
      "text/html": [
       "<div>\n",
       "<style scoped>\n",
       "    .dataframe tbody tr th:only-of-type {\n",
       "        vertical-align: middle;\n",
       "    }\n",
       "\n",
       "    .dataframe tbody tr th {\n",
       "        vertical-align: top;\n",
       "    }\n",
       "\n",
       "    .dataframe thead th {\n",
       "        text-align: right;\n",
       "    }\n",
       "</style>\n",
       "<table border=\"1\" class=\"dataframe\">\n",
       "  <thead>\n",
       "    <tr style=\"text-align: right;\">\n",
       "      <th></th>\n",
       "      <th>country</th>\n",
       "      <th>iso_3166_1_code</th>\n",
       "      <th>geonamesID</th>\n",
       "      <th>countryLabel</th>\n",
       "      <th>country_identifier</th>\n",
       "    </tr>\n",
       "  </thead>\n",
       "  <tbody>\n",
       "    <tr>\n",
       "      <th>0</th>\n",
       "      <td>http://www.wikidata.org/entity/Q16</td>\n",
       "      <td>CA</td>\n",
       "      <td>6251999.0</td>\n",
       "      <td>Canada</td>\n",
       "      <td>wd:Q16</td>\n",
       "    </tr>\n",
       "    <tr>\n",
       "      <th>1</th>\n",
       "      <td>http://www.wikidata.org/entity/Q17</td>\n",
       "      <td>JP</td>\n",
       "      <td>1861060.0</td>\n",
       "      <td>Japan</td>\n",
       "      <td>wd:Q17</td>\n",
       "    </tr>\n",
       "    <tr>\n",
       "      <th>2</th>\n",
       "      <td>http://www.wikidata.org/entity/Q20</td>\n",
       "      <td>NO</td>\n",
       "      <td>3144096.0</td>\n",
       "      <td>Norway</td>\n",
       "      <td>wd:Q20</td>\n",
       "    </tr>\n",
       "    <tr>\n",
       "      <th>3</th>\n",
       "      <td>http://www.wikidata.org/entity/Q27</td>\n",
       "      <td>IE</td>\n",
       "      <td>2963597.0</td>\n",
       "      <td>Republic of Ireland</td>\n",
       "      <td>wd:Q27</td>\n",
       "    </tr>\n",
       "    <tr>\n",
       "      <th>4</th>\n",
       "      <td>http://www.wikidata.org/entity/Q28</td>\n",
       "      <td>HU</td>\n",
       "      <td>719819.0</td>\n",
       "      <td>Hungary</td>\n",
       "      <td>wd:Q28</td>\n",
       "    </tr>\n",
       "  </tbody>\n",
       "</table>\n",
       "</div>"
      ],
      "text/plain": [
       "                              country iso_3166_1_code  geonamesID  \\\n",
       "0  http://www.wikidata.org/entity/Q16              CA   6251999.0   \n",
       "1  http://www.wikidata.org/entity/Q17              JP   1861060.0   \n",
       "2  http://www.wikidata.org/entity/Q20              NO   3144096.0   \n",
       "3  http://www.wikidata.org/entity/Q27              IE   2963597.0   \n",
       "4  http://www.wikidata.org/entity/Q28              HU    719819.0   \n",
       "\n",
       "          countryLabel country_identifier  \n",
       "0               Canada             wd:Q16  \n",
       "1                Japan             wd:Q17  \n",
       "2               Norway             wd:Q20  \n",
       "3  Republic of Ireland             wd:Q27  \n",
       "4              Hungary             wd:Q28  "
      ]
     },
     "execution_count": 5,
     "metadata": {},
     "output_type": "execute_result"
    }
   ],
   "source": [
    "countries['country_identifier'] = countries['country'].apply(lambda x: \"wd:\"+ x.split('/')[-1])\n",
    "countries.head()"
   ]
  },
  {
   "cell_type": "code",
   "execution_count": 6,
   "metadata": {},
   "outputs": [
    {
     "name": "stdout",
     "output_type": "stream",
     "text": [
      "CPU times: user 149 ms, sys: 5.82 ms, total: 155 ms\n",
      "Wall time: 3.87 s\n"
     ]
    }
   ],
   "source": [
    "%%time\n",
    "countries_resp = countries['country_identifier'][:20].apply(lambda x: fs.fetch_query(qh.make_subdivision_query(x)))"
   ]
  },
  {
   "cell_type": "markdown",
   "metadata": {},
   "source": [
    "^ The above query took 35.7s on my localmachine with 2 mbps mobile data.\n",
    "\n",
    "^ The above query took 6.54s on my wolf with UNK (but high) bandwidth."
   ]
  },
  {
   "cell_type": "code",
   "execution_count": 7,
   "metadata": {},
   "outputs": [
    {
     "data": {
      "text/plain": [
       "0     {'head': {'vars': ['subdivision', 'subdivision...\n",
       "1     {'head': {'vars': ['subdivision', 'subdivision...\n",
       "2     {'head': {'vars': ['subdivision', 'subdivision...\n",
       "3     {'head': {'vars': ['subdivision', 'subdivision...\n",
       "4     {'head': {'vars': ['subdivision', 'subdivision...\n",
       "5     {'head': {'vars': ['subdivision', 'subdivision...\n",
       "6     {'head': {'vars': ['subdivision', 'subdivision...\n",
       "7     {'head': {'vars': ['subdivision', 'subdivision...\n",
       "8     {'head': {'vars': ['subdivision', 'subdivision...\n",
       "9     {'head': {'vars': ['subdivision', 'subdivision...\n",
       "10    {'head': {'vars': ['subdivision', 'subdivision...\n",
       "11    {'head': {'vars': ['subdivision', 'subdivision...\n",
       "12    {'head': {'vars': ['subdivision', 'subdivision...\n",
       "13    {'head': {'vars': ['subdivision', 'subdivision...\n",
       "14    {'head': {'vars': ['subdivision', 'subdivision...\n",
       "15    {'head': {'vars': ['subdivision', 'subdivision...\n",
       "16    {'head': {'vars': ['subdivision', 'subdivision...\n",
       "17    {'head': {'vars': ['subdivision', 'subdivision...\n",
       "18    {'head': {'vars': ['subdivision', 'subdivision...\n",
       "19    {'head': {'vars': ['subdivision', 'subdivision...\n",
       "Name: country_identifier, dtype: object"
      ]
     },
     "execution_count": 7,
     "metadata": {},
     "output_type": "execute_result"
    }
   ],
   "source": [
    "countries_resp"
   ]
  },
  {
   "cell_type": "code",
   "execution_count": 8,
   "metadata": {},
   "outputs": [
    {
     "name": "stdout",
     "output_type": "stream",
     "text": [
      "CPU times: user 27.3 ms, sys: 3.02 ms, total: 30.3 ms\n",
      "Wall time: 29.2 ms\n"
     ]
    },
    {
     "data": {
      "text/plain": [
       "0                                    subdivision    ...\n",
       "1                                     subdivision   ...\n",
       "2                                      subdivision  ...\n",
       "3                                    subdivision  su...\n",
       "4                                    subdivision    ...\n",
       "5                                       subdivision ...\n",
       "6                                     subdivision   ...\n",
       "7                                  subdivision      ...\n",
       "8                                    subdivision    ...\n",
       "9                                  subdivision      ...\n",
       "10                                   subdivision    ...\n",
       "11                                  subdivision    s...\n",
       "12                                 subdivision      ...\n",
       "13                                  subdivision     ...\n",
       "14                                 subdivision      ...\n",
       "15                                     subdivision  ...\n",
       "16                                    subdivision   ...\n",
       "17                                   subdivision  su...\n",
       "18                                   subdivision    ...\n",
       "19                                  subdivision     ...\n",
       "Name: country_identifier, dtype: object"
      ]
     },
     "execution_count": 8,
     "metadata": {},
     "output_type": "execute_result"
    }
   ],
   "source": [
    "%%time\n",
    "countries_resp.apply(fs.to_df)"
   ]
  },
  {
   "cell_type": "markdown",
   "metadata": {},
   "source": [
    "The above cell took 14.1ms on my localmachine, running on WSL2, with i5-12450H and 16GB DDR5 Memory.\n",
    "\n",
    "\n",
    "The above cell took 29.2ms on wolf with Intel(R) Xeon(R) CPU E5-1650 v3 @ 3.50GHz and 128GB Memory."
   ]
  }
 ],
 "metadata": {
  "kernelspec": {
   "display_name": "env",
   "language": "python",
   "name": "python3"
  },
  "language_info": {
   "codemirror_mode": {
    "name": "ipython",
    "version": 3
   },
   "file_extension": ".py",
   "mimetype": "text/x-python",
   "name": "python",
   "nbconvert_exporter": "python",
   "pygments_lexer": "ipython3",
   "version": "3.8.10"
  },
  "orig_nbformat": 4
 },
 "nbformat": 4,
 "nbformat_minor": 2
}
